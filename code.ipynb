{
 "cells": [
  {
   "cell_type": "code",
   "execution_count": 5,
   "id": "7058ef63",
   "metadata": {},
   "outputs": [],
   "source": [
    "import pandas as pd\n",
    "import matplotlib.pyplot as plt\n",
    "import seaborn as sns\n",
    "import torch\n",
    "from transformers import pipeline\n",
    "from datetime import datetime\n"
   ]
  },
  {
   "cell_type": "code",
   "execution_count": 1,
   "id": "2069ec5a",
   "metadata": {},
   "outputs": [
    {
     "name": "stdout",
     "output_type": "stream",
     "text": [
      "Requirement already satisfied: streamlit in c:\\users\\jazil\\appdata\\local\\programs\\python\\python312\\lib\\site-packages (1.45.1)\n",
      "Requirement already satisfied: transformers in c:\\users\\jazil\\appdata\\local\\programs\\python\\python312\\lib\\site-packages (4.52.4)\n",
      "Requirement already satisfied: torch in c:\\users\\jazil\\appdata\\local\\programs\\python\\python312\\lib\\site-packages (2.7.1+cpu)\n",
      "Requirement already satisfied: altair<6,>=4.0 in c:\\users\\jazil\\appdata\\local\\programs\\python\\python312\\lib\\site-packages (from streamlit) (5.5.0)\n",
      "Requirement already satisfied: blinker<2,>=1.5.0 in c:\\users\\jazil\\appdata\\local\\programs\\python\\python312\\lib\\site-packages (from streamlit) (1.9.0)\n",
      "Requirement already satisfied: cachetools<6,>=4.0 in c:\\users\\jazil\\appdata\\local\\programs\\python\\python312\\lib\\site-packages (from streamlit) (5.5.2)\n",
      "Requirement already satisfied: click<9,>=7.0 in c:\\users\\jazil\\appdata\\local\\programs\\python\\python312\\lib\\site-packages (from streamlit) (8.2.1)\n",
      "Requirement already satisfied: numpy<3,>=1.23 in c:\\users\\jazil\\appdata\\local\\programs\\python\\python312\\lib\\site-packages (from streamlit) (2.1.3)\n",
      "Requirement already satisfied: packaging<25,>=20 in c:\\users\\jazil\\appdata\\local\\programs\\python\\python312\\lib\\site-packages (from streamlit) (24.2)\n",
      "Requirement already satisfied: pandas<3,>=1.4.0 in c:\\users\\jazil\\appdata\\local\\programs\\python\\python312\\lib\\site-packages (from streamlit) (2.3.0)\n",
      "Requirement already satisfied: pillow<12,>=7.1.0 in c:\\users\\jazil\\appdata\\local\\programs\\python\\python312\\lib\\site-packages (from streamlit) (11.2.1)\n",
      "Requirement already satisfied: protobuf<7,>=3.20 in c:\\users\\jazil\\appdata\\local\\programs\\python\\python312\\lib\\site-packages (from streamlit) (5.29.5)\n",
      "Requirement already satisfied: pyarrow>=7.0 in c:\\users\\jazil\\appdata\\local\\programs\\python\\python312\\lib\\site-packages (from streamlit) (20.0.0)\n",
      "Requirement already satisfied: requests<3,>=2.27 in c:\\users\\jazil\\appdata\\local\\programs\\python\\python312\\lib\\site-packages (from streamlit) (2.32.3)\n",
      "Requirement already satisfied: tenacity<10,>=8.1.0 in c:\\users\\jazil\\appdata\\local\\programs\\python\\python312\\lib\\site-packages (from streamlit) (9.1.2)\n",
      "Requirement already satisfied: toml<2,>=0.10.1 in c:\\users\\jazil\\appdata\\local\\programs\\python\\python312\\lib\\site-packages (from streamlit) (0.10.2)\n",
      "Requirement already satisfied: typing-extensions<5,>=4.4.0 in c:\\users\\jazil\\appdata\\local\\programs\\python\\python312\\lib\\site-packages (from streamlit) (4.12.2)\n",
      "Requirement already satisfied: watchdog<7,>=2.1.5 in c:\\users\\jazil\\appdata\\local\\programs\\python\\python312\\lib\\site-packages (from streamlit) (6.0.0)\n",
      "Requirement already satisfied: gitpython!=3.1.19,<4,>=3.0.7 in c:\\users\\jazil\\appdata\\local\\programs\\python\\python312\\lib\\site-packages (from streamlit) (3.1.44)\n",
      "Requirement already satisfied: pydeck<1,>=0.8.0b4 in c:\\users\\jazil\\appdata\\local\\programs\\python\\python312\\lib\\site-packages (from streamlit) (0.9.1)\n",
      "Requirement already satisfied: tornado<7,>=6.0.3 in c:\\users\\jazil\\appdata\\roaming\\python\\python312\\site-packages (from streamlit) (6.5.1)\n",
      "Requirement already satisfied: filelock in c:\\users\\jazil\\appdata\\local\\programs\\python\\python312\\lib\\site-packages (from transformers) (3.13.1)\n",
      "Requirement already satisfied: huggingface-hub<1.0,>=0.30.0 in c:\\users\\jazil\\appdata\\local\\programs\\python\\python312\\lib\\site-packages (from transformers) (0.33.0)\n",
      "Requirement already satisfied: pyyaml>=5.1 in c:\\users\\jazil\\appdata\\local\\programs\\python\\python312\\lib\\site-packages (from transformers) (6.0.2)\n",
      "Requirement already satisfied: regex!=2019.12.17 in c:\\users\\jazil\\appdata\\local\\programs\\python\\python312\\lib\\site-packages (from transformers) (2024.11.6)\n",
      "Requirement already satisfied: tokenizers<0.22,>=0.21 in c:\\users\\jazil\\appdata\\local\\programs\\python\\python312\\lib\\site-packages (from transformers) (0.21.2)\n",
      "Requirement already satisfied: safetensors>=0.4.3 in c:\\users\\jazil\\appdata\\local\\programs\\python\\python312\\lib\\site-packages (from transformers) (0.5.3)\n",
      "Requirement already satisfied: tqdm>=4.27 in c:\\users\\jazil\\appdata\\local\\programs\\python\\python312\\lib\\site-packages (from transformers) (4.67.1)\n",
      "Requirement already satisfied: sympy>=1.13.3 in c:\\users\\jazil\\appdata\\local\\programs\\python\\python312\\lib\\site-packages (from torch) (1.13.3)\n",
      "Requirement already satisfied: networkx in c:\\users\\jazil\\appdata\\local\\programs\\python\\python312\\lib\\site-packages (from torch) (3.3)\n",
      "Requirement already satisfied: jinja2 in c:\\users\\jazil\\appdata\\local\\programs\\python\\python312\\lib\\site-packages (from torch) (3.1.4)\n",
      "Requirement already satisfied: fsspec in c:\\users\\jazil\\appdata\\local\\programs\\python\\python312\\lib\\site-packages (from torch) (2024.6.1)\n",
      "Requirement already satisfied: setuptools in c:\\users\\jazil\\appdata\\local\\programs\\python\\python312\\lib\\site-packages (from torch) (70.2.0)\n",
      "Requirement already satisfied: jsonschema>=3.0 in c:\\users\\jazil\\appdata\\local\\programs\\python\\python312\\lib\\site-packages (from altair<6,>=4.0->streamlit) (4.24.0)\n",
      "Requirement already satisfied: narwhals>=1.14.2 in c:\\users\\jazil\\appdata\\local\\programs\\python\\python312\\lib\\site-packages (from altair<6,>=4.0->streamlit) (1.41.0)\n",
      "Requirement already satisfied: colorama in c:\\users\\jazil\\appdata\\roaming\\python\\python312\\site-packages (from click<9,>=7.0->streamlit) (0.4.6)\n",
      "Requirement already satisfied: gitdb<5,>=4.0.1 in c:\\users\\jazil\\appdata\\local\\programs\\python\\python312\\lib\\site-packages (from gitpython!=3.1.19,<4,>=3.0.7->streamlit) (4.0.12)\n",
      "Requirement already satisfied: python-dateutil>=2.8.2 in c:\\users\\jazil\\appdata\\local\\programs\\python\\python312\\lib\\site-packages (from pandas<3,>=1.4.0->streamlit) (2.9.0.post0)\n",
      "Requirement already satisfied: pytz>=2020.1 in c:\\users\\jazil\\appdata\\local\\programs\\python\\python312\\lib\\site-packages (from pandas<3,>=1.4.0->streamlit) (2025.2)\n",
      "Requirement already satisfied: tzdata>=2022.7 in c:\\users\\jazil\\appdata\\local\\programs\\python\\python312\\lib\\site-packages (from pandas<3,>=1.4.0->streamlit) (2025.2)\n",
      "Requirement already satisfied: MarkupSafe>=2.0 in c:\\users\\jazil\\appdata\\local\\programs\\python\\python312\\lib\\site-packages (from jinja2->torch) (2.1.5)\n",
      "Requirement already satisfied: charset-normalizer<4,>=2 in c:\\users\\jazil\\appdata\\local\\programs\\python\\python312\\lib\\site-packages (from requests<3,>=2.27->streamlit) (3.4.2)\n",
      "Requirement already satisfied: idna<4,>=2.5 in c:\\users\\jazil\\appdata\\local\\programs\\python\\python312\\lib\\site-packages (from requests<3,>=2.27->streamlit) (3.10)\n",
      "Requirement already satisfied: urllib3<3,>=1.21.1 in c:\\users\\jazil\\appdata\\local\\programs\\python\\python312\\lib\\site-packages (from requests<3,>=2.27->streamlit) (2.4.0)\n",
      "Requirement already satisfied: certifi>=2017.4.17 in c:\\users\\jazil\\appdata\\local\\programs\\python\\python312\\lib\\site-packages (from requests<3,>=2.27->streamlit) (2025.4.26)\n",
      "Requirement already satisfied: mpmath<1.4,>=1.1.0 in c:\\users\\jazil\\appdata\\local\\programs\\python\\python312\\lib\\site-packages (from sympy>=1.13.3->torch) (1.3.0)\n",
      "Requirement already satisfied: smmap<6,>=3.0.1 in c:\\users\\jazil\\appdata\\local\\programs\\python\\python312\\lib\\site-packages (from gitdb<5,>=4.0.1->gitpython!=3.1.19,<4,>=3.0.7->streamlit) (5.0.2)\n",
      "Requirement already satisfied: attrs>=22.2.0 in c:\\users\\jazil\\appdata\\local\\programs\\python\\python312\\lib\\site-packages (from jsonschema>=3.0->altair<6,>=4.0->streamlit) (25.3.0)\n",
      "Requirement already satisfied: jsonschema-specifications>=2023.03.6 in c:\\users\\jazil\\appdata\\local\\programs\\python\\python312\\lib\\site-packages (from jsonschema>=3.0->altair<6,>=4.0->streamlit) (2025.4.1)\n",
      "Requirement already satisfied: referencing>=0.28.4 in c:\\users\\jazil\\appdata\\local\\programs\\python\\python312\\lib\\site-packages (from jsonschema>=3.0->altair<6,>=4.0->streamlit) (0.36.2)\n",
      "Requirement already satisfied: rpds-py>=0.7.1 in c:\\users\\jazil\\appdata\\local\\programs\\python\\python312\\lib\\site-packages (from jsonschema>=3.0->altair<6,>=4.0->streamlit) (0.25.1)\n",
      "Requirement already satisfied: six>=1.5 in c:\\users\\jazil\\appdata\\local\\programs\\python\\python312\\lib\\site-packages (from python-dateutil>=2.8.2->pandas<3,>=1.4.0->streamlit) (1.17.0)\n",
      "Note: you may need to restart the kernel to use updated packages.\n"
     ]
    },
    {
     "name": "stderr",
     "output_type": "stream",
     "text": [
      "\n",
      "[notice] A new release of pip is available: 25.0.1 -> 25.1.1\n",
      "[notice] To update, run: python.exe -m pip install --upgrade pip\n"
     ]
    }
   ],
   "source": [
    "pip install streamlit transformers torch\n"
   ]
  },
  {
   "cell_type": "code",
   "execution_count": 2,
   "id": "7d80e771",
   "metadata": {},
   "outputs": [
    {
     "data": {
      "text/html": [
       "<div>\n",
       "<style scoped>\n",
       "    .dataframe tbody tr th:only-of-type {\n",
       "        vertical-align: middle;\n",
       "    }\n",
       "\n",
       "    .dataframe tbody tr th {\n",
       "        vertical-align: top;\n",
       "    }\n",
       "\n",
       "    .dataframe thead th {\n",
       "        text-align: right;\n",
       "    }\n",
       "</style>\n",
       "<table border=\"1\" class=\"dataframe\">\n",
       "  <thead>\n",
       "    <tr style=\"text-align: right;\">\n",
       "      <th></th>\n",
       "      <th>tweet_id</th>\n",
       "      <th>airline</th>\n",
       "      <th>airline_sentiment</th>\n",
       "      <th>text</th>\n",
       "      <th>tweet_created</th>\n",
       "    </tr>\n",
       "  </thead>\n",
       "  <tbody>\n",
       "    <tr>\n",
       "      <th>8965</th>\n",
       "      <td>567588278875213824</td>\n",
       "      <td>Delta</td>\n",
       "      <td>neutral</td>\n",
       "      <td>@JetBlue's new CEO seeks the right balance to ...</td>\n",
       "      <td>2015-02-16 23:36:05-08:00</td>\n",
       "    </tr>\n",
       "    <tr>\n",
       "      <th>8964</th>\n",
       "      <td>567590027375702016</td>\n",
       "      <td>Delta</td>\n",
       "      <td>negative</td>\n",
       "      <td>@JetBlue is REALLY getting on my nerves !! 😡😡 ...</td>\n",
       "      <td>2015-02-16 23:43:02-08:00</td>\n",
       "    </tr>\n",
       "    <tr>\n",
       "      <th>4325</th>\n",
       "      <td>567591480085463040</td>\n",
       "      <td>United</td>\n",
       "      <td>negative</td>\n",
       "      <td>@united yes. We waited in line for almost an h...</td>\n",
       "      <td>2015-02-16 23:48:48-08:00</td>\n",
       "    </tr>\n",
       "    <tr>\n",
       "      <th>4324</th>\n",
       "      <td>567592368451248130</td>\n",
       "      <td>United</td>\n",
       "      <td>negative</td>\n",
       "      <td>@united the we got into the gate at IAH on tim...</td>\n",
       "      <td>2015-02-16 23:52:20-08:00</td>\n",
       "    </tr>\n",
       "    <tr>\n",
       "      <th>6745</th>\n",
       "      <td>567594449874587648</td>\n",
       "      <td>Southwest</td>\n",
       "      <td>negative</td>\n",
       "      <td>@SouthwestAir its cool that my bags take a bit...</td>\n",
       "      <td>2015-02-17 00:00:36-08:00</td>\n",
       "    </tr>\n",
       "  </tbody>\n",
       "</table>\n",
       "</div>"
      ],
      "text/plain": [
       "                tweet_id    airline airline_sentiment  \\\n",
       "8965  567588278875213824      Delta           neutral   \n",
       "8964  567590027375702016      Delta          negative   \n",
       "4325  567591480085463040     United          negative   \n",
       "4324  567592368451248130     United          negative   \n",
       "6745  567594449874587648  Southwest          negative   \n",
       "\n",
       "                                                   text  \\\n",
       "8965  @JetBlue's new CEO seeks the right balance to ...   \n",
       "8964  @JetBlue is REALLY getting on my nerves !! 😡😡 ...   \n",
       "4325  @united yes. We waited in line for almost an h...   \n",
       "4324  @united the we got into the gate at IAH on tim...   \n",
       "6745  @SouthwestAir its cool that my bags take a bit...   \n",
       "\n",
       "                 tweet_created  \n",
       "8965 2015-02-16 23:36:05-08:00  \n",
       "8964 2015-02-16 23:43:02-08:00  \n",
       "4325 2015-02-16 23:48:48-08:00  \n",
       "4324 2015-02-16 23:52:20-08:00  \n",
       "6745 2015-02-17 00:00:36-08:00  "
      ]
     },
     "execution_count": 2,
     "metadata": {},
     "output_type": "execute_result"
    }
   ],
   "source": [
    "# Load the Kaggle Twitter US Airline Sentiment dataset\n",
    "df = pd.read_csv(r\"C:\\Users\\jazil\\Downloads\\archive-twitter (4)\\Tweets.csv\")  # Update with your full file path\n",
    "df = df[['tweet_id', 'airline', 'airline_sentiment', 'text', 'tweet_created']]\n",
    "\n",
    "# Convert tweet_created to datetime\n",
    "df['tweet_created'] = pd.to_datetime(df['tweet_created'])\n",
    "df = df.sort_values(by='tweet_created')\n",
    "\n",
    "df.head()\n"
   ]
  },
  {
   "cell_type": "code",
   "execution_count": 3,
   "id": "0c26a8d0",
   "metadata": {},
   "outputs": [],
   "source": [
    "# Sampling for quick testing (adjust size as needed)\n",
    "df_sample = df.sample(n=200, random_state=42).reset_index(drop=True)\n"
   ]
  },
  {
   "cell_type": "code",
   "execution_count": 8,
   "id": "55de37ad",
   "metadata": {},
   "outputs": [
    {
     "name": "stderr",
     "output_type": "stream",
     "text": [
      "Device set to use cpu\n"
     ]
    }
   ],
   "source": [
    "from transformers import AutoModelForSequenceClassification, AutoTokenizer\n",
    "from transformers import TextClassificationPipeline\n",
    "\n",
    "# Use distilBERT fine-tuned for sentiment analysis\n",
    "classifier = pipeline(\"sentiment-analysis\", model=\"nlptown/bert-base-multilingual-uncased-sentiment\", framework=\"pt\")\n",
    "\n",
    "\n"
   ]
  },
  {
   "cell_type": "code",
   "execution_count": 9,
   "id": "8eb1cb54",
   "metadata": {},
   "outputs": [
    {
     "data": {
      "text/html": [
       "<div>\n",
       "<style scoped>\n",
       "    .dataframe tbody tr th:only-of-type {\n",
       "        vertical-align: middle;\n",
       "    }\n",
       "\n",
       "    .dataframe tbody tr th {\n",
       "        vertical-align: top;\n",
       "    }\n",
       "\n",
       "    .dataframe thead th {\n",
       "        text-align: right;\n",
       "    }\n",
       "</style>\n",
       "<table border=\"1\" class=\"dataframe\">\n",
       "  <thead>\n",
       "    <tr style=\"text-align: right;\">\n",
       "      <th></th>\n",
       "      <th>tweet_id</th>\n",
       "      <th>text</th>\n",
       "      <th>tweet_created</th>\n",
       "    </tr>\n",
       "  </thead>\n",
       "  <tbody>\n",
       "    <tr>\n",
       "      <th>8965</th>\n",
       "      <td>567588278875213824</td>\n",
       "      <td>@JetBlue's new CEO seeks the right balance to ...</td>\n",
       "      <td>2015-02-16 23:36:05-08:00</td>\n",
       "    </tr>\n",
       "    <tr>\n",
       "      <th>8964</th>\n",
       "      <td>567590027375702016</td>\n",
       "      <td>@JetBlue is REALLY getting on my nerves !! 😡😡 ...</td>\n",
       "      <td>2015-02-16 23:43:02-08:00</td>\n",
       "    </tr>\n",
       "    <tr>\n",
       "      <th>4325</th>\n",
       "      <td>567591480085463040</td>\n",
       "      <td>@united yes. We waited in line for almost an h...</td>\n",
       "      <td>2015-02-16 23:48:48-08:00</td>\n",
       "    </tr>\n",
       "    <tr>\n",
       "      <th>4324</th>\n",
       "      <td>567592368451248130</td>\n",
       "      <td>@united the we got into the gate at IAH on tim...</td>\n",
       "      <td>2015-02-16 23:52:20-08:00</td>\n",
       "    </tr>\n",
       "    <tr>\n",
       "      <th>6745</th>\n",
       "      <td>567594449874587648</td>\n",
       "      <td>@SouthwestAir its cool that my bags take a bit...</td>\n",
       "      <td>2015-02-17 00:00:36-08:00</td>\n",
       "    </tr>\n",
       "  </tbody>\n",
       "</table>\n",
       "</div>"
      ],
      "text/plain": [
       "                tweet_id                                               text  \\\n",
       "8965  567588278875213824  @JetBlue's new CEO seeks the right balance to ...   \n",
       "8964  567590027375702016  @JetBlue is REALLY getting on my nerves !! 😡😡 ...   \n",
       "4325  567591480085463040  @united yes. We waited in line for almost an h...   \n",
       "4324  567592368451248130  @united the we got into the gate at IAH on tim...   \n",
       "6745  567594449874587648  @SouthwestAir its cool that my bags take a bit...   \n",
       "\n",
       "                 tweet_created  \n",
       "8965 2015-02-16 23:36:05-08:00  \n",
       "8964 2015-02-16 23:43:02-08:00  \n",
       "4325 2015-02-16 23:48:48-08:00  \n",
       "4324 2015-02-16 23:52:20-08:00  \n",
       "6745 2015-02-17 00:00:36-08:00  "
      ]
     },
     "execution_count": 9,
     "metadata": {},
     "output_type": "execute_result"
    }
   ],
   "source": [
    "import pandas as pd\n",
    "\n",
    "# Load dataset\n",
    "df = pd.read_csv(r\"C:\\Users\\jazil\\Downloads\\archive-twitter (4)\\Tweets.csv\")  # ← Replace with your full path\n",
    "df = df[['tweet_id', 'text', 'tweet_created']]  # Use only relevant columns\n",
    "\n",
    "# Convert datetime\n",
    "df['tweet_created'] = pd.to_datetime(df['tweet_created'])\n",
    "df = df.sort_values(by='tweet_created')\n",
    "df.head()\n"
   ]
  },
  {
   "cell_type": "code",
   "execution_count": 10,
   "id": "c5820b84",
   "metadata": {},
   "outputs": [
    {
     "name": "stderr",
     "output_type": "stream",
     "text": [
      "100%|██████████| 14640/14640 [31:02<00:00,  7.86it/s] \n"
     ]
    },
    {
     "data": {
      "text/html": [
       "<div>\n",
       "<style scoped>\n",
       "    .dataframe tbody tr th:only-of-type {\n",
       "        vertical-align: middle;\n",
       "    }\n",
       "\n",
       "    .dataframe tbody tr th {\n",
       "        vertical-align: top;\n",
       "    }\n",
       "\n",
       "    .dataframe thead th {\n",
       "        text-align: right;\n",
       "    }\n",
       "</style>\n",
       "<table border=\"1\" class=\"dataframe\">\n",
       "  <thead>\n",
       "    <tr style=\"text-align: right;\">\n",
       "      <th></th>\n",
       "      <th>tweet_id</th>\n",
       "      <th>text</th>\n",
       "      <th>tweet_created</th>\n",
       "      <th>sentiment_label</th>\n",
       "      <th>confidence</th>\n",
       "    </tr>\n",
       "  </thead>\n",
       "  <tbody>\n",
       "    <tr>\n",
       "      <th>8965</th>\n",
       "      <td>567588278875213824</td>\n",
       "      <td>@JetBlue's new CEO seeks the right balance to ...</td>\n",
       "      <td>2015-02-16 23:36:05-08:00</td>\n",
       "      <td>5 stars</td>\n",
       "      <td>0.389533</td>\n",
       "    </tr>\n",
       "    <tr>\n",
       "      <th>8964</th>\n",
       "      <td>567590027375702016</td>\n",
       "      <td>@JetBlue is REALLY getting on my nerves !! 😡😡 ...</td>\n",
       "      <td>2015-02-16 23:43:02-08:00</td>\n",
       "      <td>5 stars</td>\n",
       "      <td>0.338232</td>\n",
       "    </tr>\n",
       "    <tr>\n",
       "      <th>4325</th>\n",
       "      <td>567591480085463040</td>\n",
       "      <td>@united yes. We waited in line for almost an h...</td>\n",
       "      <td>2015-02-16 23:48:48-08:00</td>\n",
       "      <td>2 stars</td>\n",
       "      <td>0.333874</td>\n",
       "    </tr>\n",
       "    <tr>\n",
       "      <th>4324</th>\n",
       "      <td>567592368451248130</td>\n",
       "      <td>@united the we got into the gate at IAH on tim...</td>\n",
       "      <td>2015-02-16 23:52:20-08:00</td>\n",
       "      <td>1 star</td>\n",
       "      <td>0.382097</td>\n",
       "    </tr>\n",
       "    <tr>\n",
       "      <th>6745</th>\n",
       "      <td>567594449874587648</td>\n",
       "      <td>@SouthwestAir its cool that my bags take a bit...</td>\n",
       "      <td>2015-02-17 00:00:36-08:00</td>\n",
       "      <td>3 stars</td>\n",
       "      <td>0.409830</td>\n",
       "    </tr>\n",
       "  </tbody>\n",
       "</table>\n",
       "</div>"
      ],
      "text/plain": [
       "                tweet_id                                               text  \\\n",
       "8965  567588278875213824  @JetBlue's new CEO seeks the right balance to ...   \n",
       "8964  567590027375702016  @JetBlue is REALLY getting on my nerves !! 😡😡 ...   \n",
       "4325  567591480085463040  @united yes. We waited in line for almost an h...   \n",
       "4324  567592368451248130  @united the we got into the gate at IAH on tim...   \n",
       "6745  567594449874587648  @SouthwestAir its cool that my bags take a bit...   \n",
       "\n",
       "                 tweet_created sentiment_label  confidence  \n",
       "8965 2015-02-16 23:36:05-08:00         5 stars    0.389533  \n",
       "8964 2015-02-16 23:43:02-08:00         5 stars    0.338232  \n",
       "4325 2015-02-16 23:48:48-08:00         2 stars    0.333874  \n",
       "4324 2015-02-16 23:52:20-08:00          1 star    0.382097  \n",
       "6745 2015-02-17 00:00:36-08:00         3 stars    0.409830  "
      ]
     },
     "execution_count": 10,
     "metadata": {},
     "output_type": "execute_result"
    }
   ],
   "source": [
    "from tqdm import tqdm\n",
    "tqdm.pandas()  # for progress bars in pandas\n",
    "\n",
    "# Sentiment prediction (truncated to 512 chars for safety)\n",
    "def get_sentiment(text):\n",
    "    result = classifier(text[:512])[0]\n",
    "    return result['label'], result['score']\n",
    "\n",
    "# Apply sentiment analysis\n",
    "df[['sentiment_label', 'confidence']] = df['text'].progress_apply(\n",
    "    lambda x: pd.Series(get_sentiment(x))\n",
    ")\n",
    "df.head()\n"
   ]
  },
  {
   "cell_type": "code",
   "execution_count": 12,
   "id": "0c06d105",
   "metadata": {},
   "outputs": [],
   "source": [
    "df['sentiment_score'] = df['sentiment_label'].apply(lambda label: int(label.split()[0]))\n"
   ]
  },
  {
   "cell_type": "code",
   "execution_count": 13,
   "id": "db4090f9",
   "metadata": {},
   "outputs": [
    {
     "data": {
      "text/html": [
       "<div>\n",
       "<style scoped>\n",
       "    .dataframe tbody tr th:only-of-type {\n",
       "        vertical-align: middle;\n",
       "    }\n",
       "\n",
       "    .dataframe tbody tr th {\n",
       "        vertical-align: top;\n",
       "    }\n",
       "\n",
       "    .dataframe thead th {\n",
       "        text-align: right;\n",
       "    }\n",
       "</style>\n",
       "<table border=\"1\" class=\"dataframe\">\n",
       "  <thead>\n",
       "    <tr style=\"text-align: right;\">\n",
       "      <th></th>\n",
       "      <th>date</th>\n",
       "      <th>sentiment_score</th>\n",
       "    </tr>\n",
       "  </thead>\n",
       "  <tbody>\n",
       "    <tr>\n",
       "      <th>0</th>\n",
       "      <td>2015-02-16</td>\n",
       "      <td>3.250000</td>\n",
       "    </tr>\n",
       "    <tr>\n",
       "      <th>1</th>\n",
       "      <td>2015-02-17</td>\n",
       "      <td>2.439631</td>\n",
       "    </tr>\n",
       "    <tr>\n",
       "      <th>2</th>\n",
       "      <td>2015-02-18</td>\n",
       "      <td>2.450149</td>\n",
       "    </tr>\n",
       "    <tr>\n",
       "      <th>3</th>\n",
       "      <td>2015-02-19</td>\n",
       "      <td>2.540698</td>\n",
       "    </tr>\n",
       "    <tr>\n",
       "      <th>4</th>\n",
       "      <td>2015-02-20</td>\n",
       "      <td>2.448000</td>\n",
       "    </tr>\n",
       "  </tbody>\n",
       "</table>\n",
       "</div>"
      ],
      "text/plain": [
       "         date  sentiment_score\n",
       "0  2015-02-16         3.250000\n",
       "1  2015-02-17         2.439631\n",
       "2  2015-02-18         2.450149\n",
       "3  2015-02-19         2.540698\n",
       "4  2015-02-20         2.448000"
      ]
     },
     "execution_count": 13,
     "metadata": {},
     "output_type": "execute_result"
    }
   ],
   "source": [
    "df['date'] = df['tweet_created'].dt.date\n",
    "\n",
    "# Daily average sentiment\n",
    "daily_sentiment = df.groupby('date')['sentiment_score'].mean().reset_index()\n",
    "daily_sentiment.head()\n"
   ]
  },
  {
   "cell_type": "code",
   "execution_count": 14,
   "id": "b2bd2769",
   "metadata": {},
   "outputs": [
    {
     "name": "stderr",
     "output_type": "stream",
     "text": [
      "C:\\Users\\jazil\\AppData\\Local\\Temp\\ipykernel_18688\\4079494444.py:13: UserWarning: Glyph 128202 (\\N{BAR CHART}) missing from font(s) DejaVu Sans.\n",
      "  plt.tight_layout()\n",
      "C:\\Users\\jazil\\AppData\\Roaming\\Python\\Python312\\site-packages\\IPython\\core\\pylabtools.py:170: UserWarning: Glyph 128202 (\\N{BAR CHART}) missing from font(s) DejaVu Sans.\n",
      "  fig.canvas.print_figure(bytes_io, **kw)\n"
     ]
    },
    {
     "data": {
      "image/png": "[encoded data removed]",
      "text/plain": [
       "<Figure size 1200x600 with 1 Axes>"
      ]
     },
     "metadata": {},
     "output_type": "display_data"
    }
   ],
   "source": [
    "import matplotlib.pyplot as plt\n",
    "import seaborn as sns\n",
    "\n",
    "plt.figure(figsize=(12,6))\n",
    "sns.lineplot(data=daily_sentiment, x='date', y='sentiment_score', marker='o', linewidth=2)\n",
    "plt.axhline(3, color='gray', linestyle='--', label='Neutral (3 stars)')\n",
    "plt.title(\"📊 Daily Average Sentiment Score (1 to 5 stars)\", fontsize=16)\n",
    "plt.xlabel(\"Date\")\n",
    "plt.ylabel(\"Sentiment Score\")\n",
    "plt.xticks(rotation=45)\n",
    "plt.grid(True)\n",
    "plt.legend()\n",
    "plt.tight_layout()\n",
    "plt.show()\n"
   ]
  },
  {
   "cell_type": "code",
   "execution_count": 15,
   "id": "32c9e4a4",
   "metadata": {},
   "outputs": [],
   "source": [
    "def predict_sentiment(text):\n",
    "    result = classifier(text[:512])[0]  # truncate long input\n",
    "    stars = int(result['label'].split()[0])  # Extract number from '5 stars'\n",
    "    \n",
    "    if stars <= 2:\n",
    "        sentiment = \"Negative\"\n",
    "    elif stars == 3:\n",
    "        sentiment = \"Neutral\"\n",
    "    else:\n",
    "        sentiment = \"Positive\"\n",
    "    \n",
    "    return {\n",
    "        \"text\": text,\n",
    "        \"stars\": stars,\n",
    "        \"sentiment\": sentiment,\n",
    "        \"confidence\": result['score']\n",
    "    }\n"
   ]
  },
  {
   "cell_type": "code",
   "execution_count": 17,
   "id": "f7115575",
   "metadata": {},
   "outputs": [
    {
     "name": "stdout",
     "output_type": "stream",
     "text": [
      "{'text': 'I really hate this product! It works poorly.', 'stars': 1, 'sentiment': 'Negative', 'confidence': 0.8240590691566467}\n"
     ]
    }
   ],
   "source": [
    "input_text = \"I really hate this product! It works poorly.\"\n",
    "prediction = predict_sentiment(input_text)\n",
    "print(prediction)\n"
   ]
  },
  {
   "cell_type": "code",
   "execution_count": 4,
   "id": "b9b112f6",
   "metadata": {},
   "outputs": [],
   "source": [
    "app_code = '''\n",
    "import streamlit as st\n",
    "from transformers import pipeline\n",
    "\n",
    "@st.cache_resource\n",
    "def load_model():\n",
    "    return pipeline(\"sentiment-analysis\", model=\"nlptown/bert-base-multilingual-uncased-sentiment\", framework=\"pt\")\n",
    "\n",
    "classifier = load_model()\n",
    "\n",
    "def predict_sentiment(text):\n",
    "    result = classifier(text[:512])[0]\n",
    "    stars = int(result['label'].split()[0])\n",
    "    if stars <= 2:\n",
    "        sentiment = \"Negative\"\n",
    "    elif stars == 3:\n",
    "        sentiment = \"Neutral\"\n",
    "    else:\n",
    "        sentiment = \"Positive\"\n",
    "    return sentiment, stars, result['score']\n",
    "\n",
    "st.title(\" BERT Sentiment Analyzer\")\n",
    "st.write(\"Enter text below to get sentiment prediction.\")\n",
    "\n",
    "user_input = st.text_area(\"Your Text\", height=150)\n",
    "\n",
    "if st.button(\"Analyze\"):\n",
    "    if user_input.strip():\n",
    "        sentiment, stars, confidence = predict_sentiment(user_input)\n",
    "        st.markdown(f\"### Sentiment: **{sentiment}** ({stars} stars)\")\n",
    "        st.markdown(f\"Confidence Score: {confidence:.2f}\")\n",
    "    else:\n",
    "        st.warning(\"Please enter some text to analyze.\")\n",
    "'''\n",
    "\n",
    "with open(\"app.py\", \"w\", encoding=\"utf-8\") as f:\n",
    "    f.write(app_code)\n",
    "\n"
   ]
  },
  {
   "cell_type": "code",
   "execution_count": null,
   "id": "9a167769",
   "metadata": {},
   "outputs": [],
   "source": [
    "!streamlit run app.py\n"
   ]
  }
 ],
 "metadata": {
  "kernelspec": {
   "display_name": "Python 3",
   "language": "python",
   "name": "python3"
  },
  "language_info": {
   "codemirror_mode": {
    "name": "ipython",
    "version": 3
   },
   "file_extension": ".py",
   "mimetype": "text/x-python",
   "name": "python",
   "nbconvert_exporter": "python",
   "pygments_lexer": "ipython3",
   "version": "3.12.10"
  }
 },
 "nbformat": 4,
 "nbformat_minor": 5
}
